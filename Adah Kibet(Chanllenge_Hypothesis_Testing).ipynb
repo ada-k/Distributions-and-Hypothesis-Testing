{
 "cells": [
  {
   "cell_type": "markdown",
   "metadata": {},
   "source": [
    "## Challenge_Hypothesis Testing\n",
    "\n",
    "In this challenge, you will consider the state of North Carolina data set containing information on births recorded in this state. This data set is useful to researchers studying the relation between habits and practices of expectant mothers and the birth of their children. \n",
    "\n",
    "**The following is the variable descriptions**\n",
    "\n",
    "| variable         | description |\n",
    "| ---------------- | ------------|\n",
    "| `fage`           | father's age in years. |\n",
    "| `mage`           | mother's age in years. |\n",
    "| `mature`         | maturity status of mother. |\n",
    "| `weeks`          | length of pregnancy in weeks. |\n",
    "| `premie`         | whether the birth was classified as premature (premie) or full-term. |\n",
    "| `visits`         | number of hospital visits during pregnancy. |\n",
    "| `marital`        | whether mother is `married` or `not married` at birth. |\n",
    "| `gained`         | weight gained by mother during pregnancy in pounds. |\n",
    "| `weight`         | weight of the baby at birth in pounds. |\n",
    "| `lowbirthweight` | whether baby was classified as low birthweight (`low`) or not (`not low`). |\n",
    "| `gender`         | gender of the baby, `female` or `male`. |\n",
    "| `habit`          | status of the mother as a `nonsmoker` or a `smoker`. |\n",
    "| `whitemom`       | whether mom is `white` or `not white`. |\n",
    "\n",
    "**Based on this data, perform the following tasks**:\n",
    "\n",
    "\n",
    "- Make a side-by-side boxplot of habit and weight. What does the plot highlight about the relationship between these two variables?\n",
    "\n",
    "- Write the hypotheses for testing if the average weights of babies born to smoking and non-smoking mothers are different.\n",
    "\n",
    "- Conduct a hypothesis test evaluating whether the average weight gained by younger mothers is different than the average weight gained by mature mothers.\n",
    "\n",
    "- Construct a confidence interval for the difference between the weights of babies born to smoking and non-smoking mothers."
   ]
  },
  {
   "cell_type": "code",
   "execution_count": 1,
   "metadata": {},
   "outputs": [
    {
     "data": {
      "text/html": [
       "<div>\n",
       "<style scoped>\n",
       "    .dataframe tbody tr th:only-of-type {\n",
       "        vertical-align: middle;\n",
       "    }\n",
       "\n",
       "    .dataframe tbody tr th {\n",
       "        vertical-align: top;\n",
       "    }\n",
       "\n",
       "    .dataframe thead th {\n",
       "        text-align: right;\n",
       "    }\n",
       "</style>\n",
       "<table border=\"1\" class=\"dataframe\">\n",
       "  <thead>\n",
       "    <tr style=\"text-align: right;\">\n",
       "      <th></th>\n",
       "      <th>fage</th>\n",
       "      <th>mage</th>\n",
       "      <th>mature</th>\n",
       "      <th>weeks</th>\n",
       "      <th>premie</th>\n",
       "      <th>visits</th>\n",
       "      <th>marital</th>\n",
       "      <th>gained</th>\n",
       "      <th>weight</th>\n",
       "      <th>lowbirthweight</th>\n",
       "      <th>gender</th>\n",
       "      <th>habit</th>\n",
       "      <th>whitemom</th>\n",
       "    </tr>\n",
       "  </thead>\n",
       "  <tbody>\n",
       "    <tr>\n",
       "      <td>0</td>\n",
       "      <td>NaN</td>\n",
       "      <td>13</td>\n",
       "      <td>younger mom</td>\n",
       "      <td>39.0</td>\n",
       "      <td>full term</td>\n",
       "      <td>10.0</td>\n",
       "      <td>married</td>\n",
       "      <td>38.0</td>\n",
       "      <td>7.63</td>\n",
       "      <td>not low</td>\n",
       "      <td>male</td>\n",
       "      <td>nonsmoker</td>\n",
       "      <td>not white</td>\n",
       "    </tr>\n",
       "    <tr>\n",
       "      <td>1</td>\n",
       "      <td>NaN</td>\n",
       "      <td>14</td>\n",
       "      <td>younger mom</td>\n",
       "      <td>42.0</td>\n",
       "      <td>full term</td>\n",
       "      <td>15.0</td>\n",
       "      <td>married</td>\n",
       "      <td>20.0</td>\n",
       "      <td>7.88</td>\n",
       "      <td>not low</td>\n",
       "      <td>male</td>\n",
       "      <td>nonsmoker</td>\n",
       "      <td>not white</td>\n",
       "    </tr>\n",
       "    <tr>\n",
       "      <td>2</td>\n",
       "      <td>19.0</td>\n",
       "      <td>15</td>\n",
       "      <td>younger mom</td>\n",
       "      <td>37.0</td>\n",
       "      <td>full term</td>\n",
       "      <td>11.0</td>\n",
       "      <td>married</td>\n",
       "      <td>38.0</td>\n",
       "      <td>6.63</td>\n",
       "      <td>not low</td>\n",
       "      <td>female</td>\n",
       "      <td>nonsmoker</td>\n",
       "      <td>white</td>\n",
       "    </tr>\n",
       "    <tr>\n",
       "      <td>3</td>\n",
       "      <td>21.0</td>\n",
       "      <td>15</td>\n",
       "      <td>younger mom</td>\n",
       "      <td>41.0</td>\n",
       "      <td>full term</td>\n",
       "      <td>6.0</td>\n",
       "      <td>married</td>\n",
       "      <td>34.0</td>\n",
       "      <td>8.00</td>\n",
       "      <td>not low</td>\n",
       "      <td>male</td>\n",
       "      <td>nonsmoker</td>\n",
       "      <td>white</td>\n",
       "    </tr>\n",
       "    <tr>\n",
       "      <td>4</td>\n",
       "      <td>NaN</td>\n",
       "      <td>15</td>\n",
       "      <td>younger mom</td>\n",
       "      <td>39.0</td>\n",
       "      <td>full term</td>\n",
       "      <td>9.0</td>\n",
       "      <td>married</td>\n",
       "      <td>27.0</td>\n",
       "      <td>6.38</td>\n",
       "      <td>not low</td>\n",
       "      <td>female</td>\n",
       "      <td>nonsmoker</td>\n",
       "      <td>not white</td>\n",
       "    </tr>\n",
       "  </tbody>\n",
       "</table>\n",
       "</div>"
      ],
      "text/plain": [
       "   fage  mage       mature  weeks     premie  visits  marital  gained  weight  \\\n",
       "0   NaN    13  younger mom   39.0  full term    10.0  married    38.0    7.63   \n",
       "1   NaN    14  younger mom   42.0  full term    15.0  married    20.0    7.88   \n",
       "2  19.0    15  younger mom   37.0  full term    11.0  married    38.0    6.63   \n",
       "3  21.0    15  younger mom   41.0  full term     6.0  married    34.0    8.00   \n",
       "4   NaN    15  younger mom   39.0  full term     9.0  married    27.0    6.38   \n",
       "\n",
       "  lowbirthweight  gender      habit   whitemom  \n",
       "0        not low    male  nonsmoker  not white  \n",
       "1        not low    male  nonsmoker  not white  \n",
       "2        not low  female  nonsmoker      white  \n",
       "3        not low    male  nonsmoker      white  \n",
       "4        not low  female  nonsmoker  not white  "
      ]
     },
     "execution_count": 1,
     "metadata": {},
     "output_type": "execute_result"
    }
   ],
   "source": [
    "import pandas as pd\n",
    "import numpy as np\n",
    "import matplotlib.pyplot as plt\n",
    "import seaborn as sns\n",
    "\n",
    "data = pd.read_csv('nc.csv')\n",
    "data.head()"
   ]
  },
  {
   "cell_type": "code",
   "execution_count": 2,
   "metadata": {},
   "outputs": [
    {
     "name": "stdout",
     "output_type": "stream",
     "text": [
      "<class 'pandas.core.frame.DataFrame'>\n",
      "RangeIndex: 1000 entries, 0 to 999\n",
      "Data columns (total 13 columns):\n",
      "fage              829 non-null float64\n",
      "mage              1000 non-null int64\n",
      "mature            1000 non-null object\n",
      "weeks             998 non-null float64\n",
      "premie            998 non-null object\n",
      "visits            991 non-null float64\n",
      "marital           999 non-null object\n",
      "gained            973 non-null float64\n",
      "weight            1000 non-null float64\n",
      "lowbirthweight    1000 non-null object\n",
      "gender            1000 non-null object\n",
      "habit             999 non-null object\n",
      "whitemom          998 non-null object\n",
      "dtypes: float64(5), int64(1), object(7)\n",
      "memory usage: 101.7+ KB\n"
     ]
    }
   ],
   "source": [
    "data.info()"
   ]
  },
  {
   "cell_type": "code",
   "execution_count": 3,
   "metadata": {},
   "outputs": [
    {
     "data": {
      "text/plain": [
       "array(['younger mom', 'mature mom'], dtype=object)"
      ]
     },
     "execution_count": 3,
     "metadata": {},
     "output_type": "execute_result"
    }
   ],
   "source": [
    "data['mature'].unique()"
   ]
  },
  {
   "cell_type": "code",
   "execution_count": 4,
   "metadata": {},
   "outputs": [],
   "source": [
    "# # imputing missing habit values\n",
    "# from sklearn.impute import SimpleImputer\n",
    "\n",
    "# x = data.iloc[:, -2].values\n",
    "# x = x.reshape(-1,1)\n",
    "# imputer = SimpleImputer(missing_values=np.nan, strategy='most_frequent')\n",
    "# imputer = imputer.fit(x)\n",
    "# x = imputer.transform(x)\n",
    "# data.iloc[:, -2] = x \n",
    "\n",
    "# data['habit'].unique()"
   ]
  },
  {
   "cell_type": "code",
   "execution_count": 5,
   "metadata": {},
   "outputs": [],
   "source": [
    "# from sklearn.preprocessing import LabelEncoder\n",
    "# encoder = LabelEncoder()\n",
    "# data['habit'] = encoder.fit_transform(data['habit'])\n",
    "\n",
    "# data['habit'].unique()"
   ]
  },
  {
   "cell_type": "markdown",
   "metadata": {},
   "source": [
    "### Make a side-by-side boxplot of habit and weight. What does the plot highlight about the relationship between these two variables?"
   ]
  },
  {
   "cell_type": "code",
   "execution_count": 6,
   "metadata": {},
   "outputs": [
    {
     "data": {
      "image/png": "[encoded data removed]",
      "text/plain": [
       "<Figure size 432x288 with 1 Axes>"
      ]
     },
     "metadata": {
      "needs_background": "light"
     },
     "output_type": "display_data"
    }
   ],
   "source": [
    "sns.boxplot(y = data['weight'], x = data['habit'])\n",
    "plt.title('Multiple Box and Whisker Plots')\n",
    "plt.show()"
   ]
  },
  {
   "cell_type": "markdown",
   "metadata": {},
   "source": [
    "The plots show a lower median weight for the smokers indicating babies born to smoker mothers have a lower birth weight."
   ]
  },
  {
   "cell_type": "markdown",
   "metadata": {},
   "source": [
    "### Write the hypotheses for testing if the average weights of babies born to smoking and non-smoking mothers are different."
   ]
  },
  {
   "cell_type": "markdown",
   "metadata": {},
   "source": [
    "H0: There is no difference between the average weights of babies born to smoking and non-smoking mothers.                     \n",
    "\n",
    "H1: There is a difference between the average weights of babies born to smoking and non-smoking mothers."
   ]
  },
  {
   "cell_type": "code",
   "execution_count": 7,
   "metadata": {},
   "outputs": [
    {
     "name": "stdout",
     "output_type": "stream",
     "text": [
      "smokers: 126.0\n",
      "Smokers mean: 6.828730158730159\n",
      "smokers sd: 1.380668106117173\n",
      "\n",
      "non smokers: 873.0\n",
      "non smokers mean: 7.144272623138601\n",
      "non smokers sd: 1.5178105512705897\n",
      "\n",
      "Standard error = 0.13376049190705977\n",
      "Test statistic: = -2.3590109449334946\n",
      "p-value = 0.018323715325166526\n",
      "reject null hypothesis\n"
     ]
    }
   ],
   "source": [
    "import statsmodels.stats.weightstats as st\n",
    "\n",
    "weight_smoker = data[data['habit'] == 'smoker']['weight']\n",
    "weight_nonsmoker = data[data['habit'] == 'nonsmoker']['weight']\n",
    "\n",
    "w_1 = st.DescrStatsW(weight_smoker)\n",
    "w_2 = st.DescrStatsW(weight_nonsmoker)\n",
    "means_comp = st.CompareMeans(w_1, w_2)\n",
    "\n",
    "# number of observations, means and standard deviations\n",
    "smokers = w_1.nobs\n",
    "nonsmokers = w_2.nobs\n",
    "mean_smoker = w_1.mean\n",
    "mean_nonsmoker = w_2.mean\n",
    "sd_smoker = w_1.std\n",
    "sd_nonsmoker = w_2.std\n",
    "print('smokers:', smokers)\n",
    "print('Smokers mean:' ,mean_smoker)\n",
    "print('smokers sd:', sd_smoker)\n",
    "print()\n",
    "print('non smokers:', nonsmokers)\n",
    "print('non smokers mean:', mean_nonsmoker)\n",
    "print('non smokers sd:', sd_nonsmoker)\n",
    "print()\n",
    "\n",
    "# hypothesis\n",
    "h = means_comp.ztest_ind(alternative = 'two-sided', usevar = 'unequal', value = 0)\n",
    "\n",
    "#standard error, Z-score, and p-value for the test\n",
    "se = means_comp.std_meandiff_separatevar\n",
    "testZ = h[0]\n",
    "p_value = h[1]\n",
    "print(f'Standard error = {se}')\n",
    "print(f'Test statistic: = {testZ}')\n",
    "print(f'p-value = {p_value}')\n",
    "\n",
    "# Decision based on p value\n",
    "if p_value < 0.05:\n",
    "    print('reject null hypothesis')\n",
    "else:\n",
    "    print('accept null hypothesis')"
   ]
  },
  {
   "cell_type": "markdown",
   "metadata": {},
   "source": [
    "Thus There is a difference between the average weights of babies born to smoking and non-smoking mothers."
   ]
  },
  {
   "cell_type": "markdown",
   "metadata": {},
   "source": [
    "### Conduct a hypothesis test evaluating whether the average weight gained by younger mothers is different than the average weight gained by mature mothers."
   ]
  },
  {
   "cell_type": "markdown",
   "metadata": {},
   "source": [
    "H0: There is no difference between the average weights gained by younger mothers and mature mothers.                    \n",
    "\n",
    "H1: There is a difference between the average weights gained by younger mothers and mature mothers. "
   ]
  },
  {
   "cell_type": "code",
   "execution_count": 8,
   "metadata": {},
   "outputs": [
    {
     "name": "stdout",
     "output_type": "stream",
     "text": [
      "young mothers: 0.0\n",
      "young mean: 6.828730158730159\n",
      "young sd: 1.380668106117173\n",
      "\n",
      "mature mothers: 873.0\n",
      "mature mean: 7.144272623138601\n",
      "mature sd: 1.5178105512705897\n",
      "\n",
      "Standard error = 0.13376049190705977\n",
      "Test statistic: = nan\n",
      "p-value = nan\n",
      "Fail to reject null hypothesis\n"
     ]
    },
    {
     "name": "stderr",
     "output_type": "stream",
     "text": [
      "/home/ada/anaconda3/lib/python3.7/site-packages/statsmodels/stats/weightstats.py:133: RuntimeWarning: invalid value encountered in double_scalars\n",
      "  return self.sum / self.sum_weights\n",
      "/home/ada/anaconda3/lib/python3.7/site-packages/statsmodels/stats/weightstats.py:180: RuntimeWarning: invalid value encountered in double_scalars\n",
      "  return self.sumsquares / (self.sum_weights - self.ddof)\n",
      "/home/ada/anaconda3/lib/python3.7/site-packages/statsmodels/stats/weightstats.py:188: RuntimeWarning: invalid value encountered in double_scalars\n",
      "  return self.sumsquares / self.sum_weights\n"
     ]
    }
   ],
   "source": [
    "import statsmodels.stats.weightstats as st\n",
    "\n",
    "weight_young = data[data['habit'] == 'younger mom']['gained']\n",
    "weight_mature = data[data['habit'] == 'mature mom']['gained']\n",
    "\n",
    "w_1 = st.DescrStatsW(weight_young)\n",
    "w_2 = st.DescrStatsW(weight_mature)\n",
    "means_comp = st.CompareMeans(w_1, w_2)\n",
    "\n",
    "# number of observations, means and standard deviations\n",
    "n_young = w_1.nobs\n",
    "n_mature = w_2.nobs\n",
    "mean_young = w_1.mean\n",
    "mean_mature = w_2.mean\n",
    "sd_young = w_1.std\n",
    "sd_mature = w_2.std\n",
    "print('young mothers:', n_mature)\n",
    "print('young mean:' ,mean_smoker)\n",
    "print('young sd:', sd_smoker)\n",
    "print()\n",
    "print('mature mothers:', nonsmokers)\n",
    "print('mature mean:', mean_nonsmoker)\n",
    "print('mature sd:', sd_nonsmoker)\n",
    "print()\n",
    "\n",
    "# hypothesis\n",
    "h = means_comp.ztest_ind(alternative = 'two-sided', usevar = 'unequal', value = 0)\n",
    "\n",
    "#standard error, Z-score, and p-value for the test\n",
    "testZ = h[0]\n",
    "p_value = h[1]\n",
    "print(f'Standard error = {se}')\n",
    "print(f'Test statistic: = {testZ}')\n",
    "print(f'p-value = {p_value}')\n",
    "\n",
    "# Decision based on p value\n",
    "if p_value < 0.05:\n",
    "    print('reject null hypothesis')\n",
    "else:\n",
    "    print('Fail to reject null hypothesis')"
   ]
  },
  {
   "cell_type": "markdown",
   "metadata": {},
   "source": [
    "Thus there's no difference between the average weights gained by younger mothers and mature mothers. "
   ]
  },
  {
   "cell_type": "markdown",
   "metadata": {},
   "source": [
    "### Construct a confidence interval for the difference between the weights of babies born to smoking and non-smoking mothers."
   ]
  },
  {
   "cell_type": "code",
   "execution_count": 18,
   "metadata": {},
   "outputs": [],
   "source": [
    "# from scipy.stats import sem, t\n",
    "# from scipy import mean\n",
    "# confidence = 0.95\n",
    "# data = [1, 2, 3, 4, 5]\n",
    "\n",
    "# n = len(data)\n",
    "# m = mean(data)\n",
    "# std_err = sem(data)\n",
    "# h = std_err * t.ppf((1 + confidence) / 2, n - 1)"
   ]
  },
  {
   "cell_type": "code",
   "execution_count": 17,
   "metadata": {},
   "outputs": [],
   "source": [
    "# import os\n",
    "# os.environ['R_HOME'] = \"/usr/share/anaconda3/lib/R\"\n",
    "\n",
    "# import rpy2.robjects as robjects\n",
    "# %load_ext rpy2.ipython"
   ]
  },
  {
   "cell_type": "code",
   "execution_count": 19,
   "metadata": {},
   "outputs": [],
   "source": [
    "# inference(y = data$weight, x = data$habit, est = \"mean\", type = \"ci\", null = 0, \n",
    "#           alternative = \"twosided\", method = \"theoretical\")"
   ]
  },
  {
   "cell_type": "code",
   "execution_count": null,
   "metadata": {},
   "outputs": [],
   "source": []
  }
 ],
 "metadata": {
  "kernelspec": {
   "display_name": "Python 3",
   "language": "python",
   "name": "python3"
  },
  "language_info": {
   "codemirror_mode": {
    "name": "ipython",
    "version": 3
   },
   "file_extension": ".py",
   "mimetype": "text/x-python",
   "name": "python",
   "nbconvert_exporter": "python",
   "pygments_lexer": "ipython3",
   "version": "3.7.4"
  }
 },
 "nbformat": 4,
 "nbformat_minor": 4
}
